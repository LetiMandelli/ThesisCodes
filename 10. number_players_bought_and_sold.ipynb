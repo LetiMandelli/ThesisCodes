{
 "cells": [
  {
   "cell_type": "markdown",
   "metadata": {},
   "source": [
    "# Add number per nations and per teams bought and sold"
   ]
  },
  {
   "cell_type": "code",
   "execution_count": 6,
   "metadata": {},
   "outputs": [],
   "source": [
    "import pandas as pd\n",
    "import numpy as np\n",
    "from numpy import *\n",
    "import scipy.stats as scp"
   ]
  },
  {
   "cell_type": "code",
   "execution_count": 7,
   "metadata": {},
   "outputs": [],
   "source": [
    "d_team_player = pd.read_csv('data_16.csv', encoding = \"utf8\")"
   ]
  },
  {
   "cell_type": "code",
   "execution_count": 8,
   "metadata": {},
   "outputs": [
    {
     "name": "stderr",
     "output_type": "stream",
     "text": [
      "C:\\Users\\letym\\Anaconda3\\lib\\site-packages\\ipykernel_launcher.py:12: SettingWithCopyWarning: \n",
      "A value is trying to be set on a copy of a slice from a DataFrame\n",
      "\n",
      "See the caveats in the documentation: http://pandas.pydata.org/pandas-docs/stable/indexing.html#indexing-view-versus-copy\n",
      "  if sys.path[0] == '':\n"
     ]
    }
   ],
   "source": [
    "# number of export players\n",
    "num_exported = d_team_player.groupby('team_from').count().iloc[:,0]\n",
    "\n",
    "dataExport = pd.DataFrame(data = num_exported)\n",
    "\n",
    "dataExport.rename(columns = {'Unnamed: 0':'number_export_players'}, inplace=True)\n",
    "dataExport.index.name = 'team_from'\n",
    "dataExport.reset_index(inplace=True)\n",
    "\n",
    "d_team_player = d_team_player.join(dataExport.set_index('team_from'), on='team_from')\n",
    "where_are_NaNs = isnan(d_team_player.number_export_players)\n",
    "d_team_player.number_export_players[where_are_NaNs] = 0\n",
    "d_team_player.number_export_players = round(d_team_player.number_export_players)\n",
    "\n",
    "d_team_player = d_team_player.drop(columns=['Unnamed: 0','Unnamed: 0.1'], axis=1)"
   ]
  },
  {
   "cell_type": "code",
   "execution_count": 11,
   "metadata": {},
   "outputs": [],
   "source": [
    "d_team_player = d_team_player.drop(columns=['Unnamed: 0.1.1', 'Unnamed: 0.1.1.1'], axis=1)"
   ]
  },
  {
   "cell_type": "code",
   "execution_count": 12,
   "metadata": {},
   "outputs": [
    {
     "name": "stderr",
     "output_type": "stream",
     "text": [
      "C:\\Users\\letym\\Anaconda3\\lib\\site-packages\\ipykernel_launcher.py:12: SettingWithCopyWarning: \n",
      "A value is trying to be set on a copy of a slice from a DataFrame\n",
      "\n",
      "See the caveats in the documentation: http://pandas.pydata.org/pandas-docs/stable/indexing.html#indexing-view-versus-copy\n",
      "  if sys.path[0] == '':\n"
     ]
    }
   ],
   "source": [
    "# number of import players\n",
    "num_imported = d_team_player.groupby('team_to').count().iloc[:,0]\n",
    "\n",
    "dataImport = pd.DataFrame(data = num_imported)\n",
    "\n",
    "dataImport.rename(columns = {'date':'number_import_players'}, inplace=True)\n",
    "dataImport.index.name = 'team_to'\n",
    "dataImport.reset_index(inplace=True)\n",
    "\n",
    "d_team_player = d_team_player.join(dataImport.set_index('team_to'), on='team_to')\n",
    "where_are_NaNs = isnan(d_team_player.number_import_players)\n",
    "d_team_player.number_import_players[where_are_NaNs] = 0\n",
    "d_team_player.number_import_players = round(d_team_player.number_import_players)"
   ]
  },
  {
   "cell_type": "code",
   "execution_count": 13,
   "metadata": {},
   "outputs": [],
   "source": [
    "# absolute number of players sold from a country\n",
    "\n",
    "num_sold = d_team_player.groupby('country_selling').count().iloc[:,0]\n",
    "\n",
    "num_sold = pd.DataFrame(data = num_sold)\n",
    "num_sold.rename(columns = {'date':'abs_number_per_nation_sold'}, inplace=True)\n",
    "num_sold.index.name = 'country_selling'\n",
    "num_sold.reset_index(inplace=True)\n",
    "\n",
    "d_team_player = d_team_player.join(num_sold.set_index('country_selling'), on='country_selling')"
   ]
  },
  {
   "cell_type": "code",
   "execution_count": 14,
   "metadata": {},
   "outputs": [],
   "source": [
    "# absolute number of players bought from a country\n",
    "num_bought = d_team_player.groupby('country_buying').count().iloc[:,0]\n",
    "\n",
    "num_bought = pd.DataFrame(data = num_bought)\n",
    "num_bought.rename(columns = {'date':'abs_number_per_nation_bought'}, inplace=True)\n",
    "num_bought.index.name = 'country_buying'\n",
    "num_bought.reset_index(inplace=True)\n",
    "\n",
    "d_team_player = d_team_player.join(num_bought.set_index('country_buying'), on='country_buying')\n"
   ]
  },
  {
   "cell_type": "code",
   "execution_count": 15,
   "metadata": {},
   "outputs": [],
   "source": [
    "d_team_player.to_csv('data_17.csv', header=True, sep=',')"
   ]
  },
  {
   "cell_type": "code",
   "execution_count": null,
   "metadata": {},
   "outputs": [],
   "source": []
  }
 ],
 "metadata": {
  "kernelspec": {
   "display_name": "Python 3",
   "language": "python",
   "name": "python3"
  },
  "language_info": {
   "codemirror_mode": {
    "name": "ipython",
    "version": 3
   },
   "file_extension": ".py",
   "mimetype": "text/x-python",
   "name": "python",
   "nbconvert_exporter": "python",
   "pygments_lexer": "ipython3",
   "version": "3.7.0"
  }
 },
 "nbformat": 4,
 "nbformat_minor": 2
}
