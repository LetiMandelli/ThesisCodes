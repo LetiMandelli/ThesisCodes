{
 "cells": [
  {
   "cell_type": "markdown",
   "metadata": {},
   "source": [
    "# Date of the transfer: how many days after the beginning of the open window?"
   ]
  },
  {
   "cell_type": "code",
   "execution_count": 1,
   "metadata": {},
   "outputs": [],
   "source": [
    "import pandas as pd\n",
    "import numpy as np\n",
    "import seaborn as sb\n",
    "import matplotlib\n",
    "import matplotlib.pyplot as plt"
   ]
  },
  {
   "cell_type": "code",
   "execution_count": 2,
   "metadata": {},
   "outputs": [],
   "source": [
    "d_tf  = pd.read_csv('data_15.csv', encoding = \"utf8\")\n",
    "d_tf = d_tf.drop(['Unnamed: 0'], axis=1)\n",
    "dopen = pd.read_excel('dateOpening.xlsx', encoding=\"utf8\")\n",
    "\n",
    "dopen.rename(columns={'Coutnry':'country_name_buying'}, \n",
    "                 inplace=True)\n",
    "\n",
    "d_tf.country_name_selling = d_tf.country_name_selling.replace('Netherland','Netherlands')\n",
    "d_tf.country_name_buying = d_tf.country_name_buying.replace('Netherland','Netherlands')\n",
    "\n",
    "d_tf2 = d_tf.join(dopen.set_index('country_name_buying'), on='country_name_buying')"
   ]
  },
  {
   "cell_type": "markdown",
   "metadata": {},
   "source": [
    "# Add column daysFromOpenBuying\n",
    "We have different days of opening of the transfer window.\n"
   ]
  },
  {
   "cell_type": "code",
   "execution_count": 3,
   "metadata": {},
   "outputs": [],
   "source": [
    "d_tf2['date'] = pd.to_datetime(d_tf2['date'], format=\"%Y-%m-%d\")"
   ]
  },
  {
   "cell_type": "code",
   "execution_count": 4,
   "metadata": {},
   "outputs": [],
   "source": [
    "d_tf2['s2016'] = pd.to_datetime(d_tf2['s2016'], format=\"%Y-%m-%d\")\n",
    "d_tf2['s2017'] = pd.to_datetime(d_tf2['s2017'], format=\"%Y-%m-%d\")\n",
    "d_tf2['s2018'] = pd.to_datetime(d_tf2['s2018'], format=\"%Y-%m-%d\")\n",
    "d_tf2['w2017'] = pd.to_datetime(d_tf2['w2017'], format=\"%Y-%m-%d\")\n",
    "d_tf2['w2018'] = pd.to_datetime(d_tf2['w2018'], format=\"%Y-%m-%d\")\n",
    "d_tf2['w2019'] = pd.to_datetime(d_tf2['w2019'], format=\"%Y-%m-%d\")\n"
   ]
  },
  {
   "cell_type": "code",
   "execution_count": 5,
   "metadata": {},
   "outputs": [],
   "source": [
    "d_tf2['days_from_openBuying'] = np.nan\n",
    "\n",
    "def daysFromOpenwindow(df):\n",
    "    if df['year'] == 2016 and df['wintersummer']=='s':\n",
    "        return df['date'] - df['s2016']\n",
    "    elif df['year'] == 2017 and df['wintersummer']=='s':\n",
    "        return df['date'] - df['s2017']\n",
    "    elif df['year'] == 2018 and df['wintersummer']=='s':\n",
    "        return df['date'] - df['s2018']\n",
    "    elif df['year'] == 2017 and df['wintersummer']=='w':\n",
    "        return df['date'] - df['w2017']\n",
    "    elif df['year'] == 2018 and df['wintersummer']=='w':\n",
    "        return df['date'] - df['w2018']\n",
    "    elif df['year'] == 2019 and df['wintersummer']=='w':\n",
    "        return df['date'] - df['w2019']\n",
    "    else:\n",
    "        return np.nan\n",
    "\n",
    "d_tf2['days_from_openBuying'] = d_tf2.apply(daysFromOpenwindow, axis = 1)"
   ]
  },
  {
   "cell_type": "code",
   "execution_count": 6,
   "metadata": {},
   "outputs": [],
   "source": [
    "# drop columns with the rankings of all years\n",
    "d_tf2 = d_tf2.drop(['s2016','s2017','s2018','w2017','w2018','w2019'], axis=1)"
   ]
  },
  {
   "cell_type": "code",
   "execution_count": 7,
   "metadata": {},
   "outputs": [],
   "source": [
    "def takeOnlyNumberDays(x):\n",
    "    x=str(x).split(' ')[0]\n",
    "    return x\n",
    "\n",
    "d_tf2['days_from_openBuying'] = d_tf2.days_from_openBuying.apply(takeOnlyNumberDays)"
   ]
  },
  {
   "cell_type": "code",
   "execution_count": 8,
   "metadata": {},
   "outputs": [],
   "source": [
    "d_tf2.days_from_openBuying = d_tf2.days_from_openBuying.apply(int)"
   ]
  },
  {
   "cell_type": "code",
   "execution_count": 9,
   "metadata": {},
   "outputs": [
    {
     "data": {
      "text/plain": [
       "109"
      ]
     },
     "execution_count": 9,
     "metadata": {},
     "output_type": "execute_result"
    }
   ],
   "source": [
    "sum(d_tf2['days_from_openBuying']<0)"
   ]
  },
  {
   "cell_type": "code",
   "execution_count": 10,
   "metadata": {},
   "outputs": [],
   "source": [
    "#check NA\n",
    "#d_tf2.isna().sum()"
   ]
  },
  {
   "cell_type": "markdown",
   "metadata": {},
   "source": [
    "# European rank per nation year before"
   ]
  },
  {
   "cell_type": "code",
   "execution_count": 11,
   "metadata": {},
   "outputs": [],
   "source": [
    "dr = pd.read_excel('UEFAperCountry.xlsx', encoding=\"utf8\")\n",
    "\n",
    "dr.rename(columns={'Country':'country_name_selling'}, \n",
    "                 inplace=True)\n",
    "\n",
    "d_tf3 = d_tf2.join(dr.set_index('country_name_selling'), on='country_name_selling')"
   ]
  },
  {
   "cell_type": "code",
   "execution_count": 12,
   "metadata": {},
   "outputs": [],
   "source": [
    "d_tf3['europeanPerf_country_from'] = np.nan\n",
    "d_tf3['europeanPerf_country_to'] = np.nan\n",
    "\n",
    "def perfEurCountryYearBefore(df):\n",
    "        if df['season']=='16/17':\n",
    "            return df['e2016']\n",
    "        elif df['season']=='17/18':\n",
    "            return df['e2017']\n",
    "        elif df['season']=='18/19':\n",
    "            return df['e2018']\n",
    "        else:\n",
    "            return np.nan\n",
    "\n",
    "d_tf3['europeanPerf_country_from'] = d_tf3.apply(perfEurCountryYearBefore, axis = 1)\n",
    "d_tf3 = d_tf3.drop(columns=['e2016','e2017','e2018'], axis = 1)\n",
    "\n",
    "dr.rename(columns={'country_name_selling':'country_name_buying'}, \n",
    "                 inplace=True)\n",
    "d_tf3 = d_tf3.join(dr.set_index('country_name_buying'), on='country_name_buying')\n",
    "\n",
    "d_tf3['europeanPerf_country_to'] = d_tf3.apply(perfEurCountryYearBefore, axis = 1)\n"
   ]
  },
  {
   "cell_type": "code",
   "execution_count": 13,
   "metadata": {},
   "outputs": [],
   "source": [
    "d_tf3 = d_tf3.drop(columns=['e2016','e2017','e2018'], axis = 1)"
   ]
  },
  {
   "cell_type": "code",
   "execution_count": 14,
   "metadata": {},
   "outputs": [],
   "source": [
    "d_tf3.to_csv('data_16.csv', sep=',', header=True)"
   ]
  },
  {
   "cell_type": "code",
   "execution_count": null,
   "metadata": {},
   "outputs": [],
   "source": []
  }
 ],
 "metadata": {
  "kernelspec": {
   "display_name": "Python 3",
   "language": "python",
   "name": "python3"
  },
  "language_info": {
   "codemirror_mode": {
    "name": "ipython",
    "version": 3
   },
   "file_extension": ".py",
   "mimetype": "text/x-python",
   "name": "python",
   "nbconvert_exporter": "python",
   "pygments_lexer": "ipython3",
   "version": "3.7.0"
  }
 },
 "nbformat": 4,
 "nbformat_minor": 2
}
