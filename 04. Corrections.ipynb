{
 "cells": [
  {
   "cell_type": "markdown",
   "metadata": {},
   "source": [
    "# Corrections"
   ]
  },
  {
   "cell_type": "markdown",
   "metadata": {},
   "source": [
    "Correct by hand: lugo is Spain, not Italy. Brentford is England, not Germany"
   ]
  },
  {
   "cell_type": "markdown",
   "metadata": {},
   "source": [
    "Correct by hand:\n",
    "Danilo \n",
    "G. Pezzella (German e Giuseppe) \n",
    "N. Maksimovic\n",
    "D. Brooks e J. Brooks"
   ]
  },
  {
   "cell_type": "code",
   "execution_count": 62,
   "metadata": {},
   "outputs": [],
   "source": [
    "import pandas as pd\n",
    "import numpy as np\n",
    "import sys \n",
    "import csv\n",
    "import unicodedata\n",
    "import collections"
   ]
  },
  {
   "cell_type": "code",
   "execution_count": 63,
   "metadata": {},
   "outputs": [],
   "source": [
    "df = pd.read_csv('data_17b.csv', encoding='utf8')"
   ]
  },
  {
   "cell_type": "code",
   "execution_count": 64,
   "metadata": {},
   "outputs": [],
   "source": [
    "def remove_accents(input_str):\n",
    "    nkfd_form = unicodedata.normalize('NFKD', input_str)\n",
    "    return u\"\".join([c for c in nkfd_form if not unicodedata.combining(c)])\n",
    "\n",
    "def remove_special (input_str):\n",
    "    new = input_str.replace(\"'\", \"\").replace(\"æ\", \"ae\").replace(\"Ð\", \"D\").replace(\"ð\", \"d\").replace(\"Ø\", \"O\").replace(\"ø\", \"o\").replace(\"Æ\", \"AE\").replace(\"œ\", \"oe\").replace('ς','c').replace('đ','d')\n",
    "    return new"
   ]
  },
  {
   "cell_type": "code",
   "execution_count": 65,
   "metadata": {},
   "outputs": [],
   "source": [
    "df['name_final'] = df.shortName.apply(remove_accents).apply(remove_special)"
   ]
  },
  {
   "cell_type": "code",
   "execution_count": 66,
   "metadata": {},
   "outputs": [
    {
     "data": {
      "text/plain": [
       "(828, 39)"
      ]
     },
     "execution_count": 66,
     "metadata": {},
     "output_type": "execute_result"
    }
   ],
   "source": [
    "df.shape"
   ]
  },
  {
   "cell_type": "code",
   "execution_count": 67,
   "metadata": {},
   "outputs": [],
   "source": [
    "tot = [item for item, count in collections.Counter(df.name_final).items() if count > 1]"
   ]
  },
  {
   "cell_type": "markdown",
   "metadata": {},
   "source": [
    "Di questi 58 devo escludere 2 prestiti e correggerne 4 A MANO:\n"
   ]
  },
  {
   "cell_type": "code",
   "execution_count": 68,
   "metadata": {},
   "outputs": [],
   "source": [
    "# exclude loans\n",
    "df = df[(df.name_final != 'Bruno Fernandes') | (df.year != 2016)]\n",
    "df = df[(df.name_final != 'G. Castrovilli') | (df.price != 1.2)]"
   ]
  },
  {
   "cell_type": "code",
   "execution_count": 69,
   "metadata": {},
   "outputs": [
    {
     "data": {
      "text/plain": [
       "(826, 39)"
      ]
     },
     "execution_count": 69,
     "metadata": {},
     "output_type": "execute_result"
    }
   ],
   "source": [
    "df.shape"
   ]
  },
  {
   "cell_type": "markdown",
   "metadata": {},
   "source": [
    "# Team's data correction"
   ]
  },
  {
   "cell_type": "code",
   "execution_count": 70,
   "metadata": {},
   "outputs": [],
   "source": [
    "df = df.replace('Beri 1908','Bari 1908').replace('Ostende','Oostende').replace('Norwich','Norwich City').replace('Nuremberg','Nurnberg').replace('AZ Alkmaar','AZ').replace('Braga','Sporting Braga').replace('Extremadura','Extremadura UD')"
   ]
  },
  {
   "cell_type": "code",
   "execution_count": 71,
   "metadata": {},
   "outputs": [],
   "source": [
    "# remove hednesford town because of lack of data"
   ]
  },
  {
   "cell_type": "code",
   "execution_count": 72,
   "metadata": {},
   "outputs": [
    {
     "data": {
      "text/plain": [
       "(825, 39)"
      ]
     },
     "execution_count": 72,
     "metadata": {},
     "output_type": "execute_result"
    }
   ],
   "source": [
    "# remove Sturm graz that is in austria\n",
    "df = df[df.team_from != 'Sturm Graz']\n",
    "df.shape"
   ]
  },
  {
   "cell_type": "code",
   "execution_count": 73,
   "metadata": {},
   "outputs": [
    {
     "data": {
      "text/plain": [
       "(824, 39)"
      ]
     },
     "execution_count": 73,
     "metadata": {},
     "output_type": "execute_result"
    }
   ],
   "source": [
    "# remove hednesford town because we have no data about team's performance\n",
    "df = df[(df.team_from != 'Hednesford Town')]\n",
    "df.shape"
   ]
  },
  {
   "cell_type": "code",
   "execution_count": 74,
   "metadata": {},
   "outputs": [],
   "source": [
    "df.to_csv('data_10b_by_hand.csv', header=True, sep=',')"
   ]
  },
  {
   "cell_type": "code",
   "execution_count": null,
   "metadata": {},
   "outputs": [],
   "source": []
  }
 ],
 "metadata": {
  "kernelspec": {
   "display_name": "Python 3",
   "language": "python",
   "name": "python3"
  },
  "language_info": {
   "codemirror_mode": {
    "name": "ipython",
    "version": 3
   },
   "file_extension": ".py",
   "mimetype": "text/x-python",
   "name": "python",
   "nbconvert_exporter": "python",
   "pygments_lexer": "ipython3",
   "version": "3.7.0"
  }
 },
 "nbformat": 4,
 "nbformat_minor": 2
}
