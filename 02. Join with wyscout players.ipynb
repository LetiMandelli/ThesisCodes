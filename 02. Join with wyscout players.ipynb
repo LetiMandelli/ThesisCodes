{
 "cells": [
  {
   "cell_type": "markdown",
   "metadata": {},
   "source": [
    "# Joins with players.json dataset"
   ]
  },
  {
   "cell_type": "code",
   "execution_count": 2,
   "metadata": {},
   "outputs": [],
   "source": [
    "import pandas as pd\n",
    "import numpy as np"
   ]
  },
  {
   "cell_type": "code",
   "execution_count": 4,
   "metadata": {},
   "outputs": [
    {
     "data": {
      "text/plain": [
       "(1351, 38)"
      ]
     },
     "execution_count": 4,
     "metadata": {},
     "output_type": "execute_result"
    }
   ],
   "source": [
    "d_tf = pd.read_csv('data_6.csv')\n",
    "dp = pd.read_csv('df_players_1.csv')\n",
    "\n",
    "dp = dp.drop(['middleName', 'name', 'currentNationalTeamId','currentTeamId', 'alpha2code_y','alpha2code_x'], axis=1) \n",
    "\n",
    "dp['name_final'] = np.nan\n",
    "def lastnameExtract(x):\n",
    "    return x.split(' ')[-1]\n",
    "\n",
    "dp['name_final'] = dp.shortName.apply(lastnameExtract)\n",
    "\n",
    "d_tf1 = d_tf.join(dp.set_index('name_final'), on='name_final')\n",
    "\n",
    "d_tf1.shape "
   ]
  },
  {
   "cell_type": "code",
   "execution_count": 5,
   "metadata": {},
   "outputs": [
    {
     "data": {
      "text/plain": [
       "(850, 20)"
      ]
     },
     "execution_count": 5,
     "metadata": {},
     "output_type": "execute_result"
    }
   ],
   "source": [
    "d_tf1.to_csv('data_7.csv', header=True, sep=',')\n",
    "\n",
    "d_tf.shape"
   ]
  },
  {
   "cell_type": "code",
   "execution_count": 6,
   "metadata": {},
   "outputs": [
    {
     "data": {
      "text/plain": [
       "date                              0\n",
       "season                            0\n",
       "team_from                         0\n",
       "team_to                           0\n",
       "price                             0\n",
       "year                              0\n",
       "wintersummer                      0\n",
       "role                              0\n",
       "player                            0\n",
       "month                             0\n",
       "country_selling                   0\n",
       "country_name_selling              0\n",
       "city_selling                      0\n",
       "number_export_players             0\n",
       "country_buying                    0\n",
       "country_name_buying               0\n",
       "city_buying                       0\n",
       "number_import_players             0\n",
       "abs_number_per_nation_bought      0\n",
       "name_final                        0\n",
       "code2                           127\n",
       "code3                           127\n",
       "name_x                          127\n",
       "alpha3code_x                    127\n",
       "id_x                            127\n",
       "name_y                          127\n",
       "alpha3code_y                    127\n",
       "id_y                            127\n",
       "birthDate                       127\n",
       "firstName                       127\n",
       "foot                            130\n",
       "gender                          127\n",
       "height                          127\n",
       "lastName                        127\n",
       "shortName                       127\n",
       "status                          127\n",
       "weight                          127\n",
       "wyId                            127\n",
       "dtype: int64"
      ]
     },
     "execution_count": 6,
     "metadata": {},
     "output_type": "execute_result"
    }
   ],
   "source": [
    "d_tf1.isna().sum()"
   ]
  },
  {
   "cell_type": "markdown",
   "metadata": {},
   "source": [
    "# 127 NA needs to be imput and 501 needs to be selected by hand!"
   ]
  }
 ],
 "metadata": {
  "kernelspec": {
   "display_name": "Python 3",
   "language": "python",
   "name": "python3"
  },
  "language_info": {
   "codemirror_mode": {
    "name": "ipython",
    "version": 3
   },
   "file_extension": ".py",
   "mimetype": "text/x-python",
   "name": "python",
   "nbconvert_exporter": "python",
   "pygments_lexer": "ipython3",
   "version": "3.7.0"
  }
 },
 "nbformat": 4,
 "nbformat_minor": 2
}
